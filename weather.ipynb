{
 "cells": [
  {
   "cell_type": "markdown",
   "metadata": {},
   "source": [
    "### This notebook called weather.ipynb (Task 8: Notebook) include a brief report explaining how completed Tasks 1 to 7 with short descriptions of  commands used in each task and explain role in completing the tasks."
   ]
  },
  {
   "cell_type": "markdown",
   "metadata": {},
   "source": [
    "# Task 1\n",
    "#### Steps: Create the main directory: \n",
    "``` bash\n",
    "mkdir -p data/timestamps\n",
    "mkdir -p data/weather \n",
    "```\n",
    "\n",
    "#### Explanation: \"-p\" flag creates any parent directories as needed. This command will create data and then subdirectories timestamps and weather within it."
   ]
  },
  {
   "cell_type": "markdown",
   "metadata": {},
   "source": [
    "# Task 2\n",
    "#### Steps: 1)Navigate to the directory: \n",
    "``` bash\n",
    "cd data/timestamps\n",
    "```\n",
    "#### 2)Append the current date and time to now.txt 10 times:\n",
    "``` bash\n",
    "date >> now.txt (10 times)\n",
    "``` \n",
    "#### 3)Verify the contents of now.txt:\n",
    "``` bash\n",
    "more now.txt \n",
    "```"
   ]
  },
  {
   "cell_type": "markdown",
   "metadata": {},
   "source": [
    "# Task 3\n",
    "#### Steps: Run the date command with formatting: \n",
    "``` bash\n",
    "date -d \"2026-11-14 13:00:03\" +\"%Y%m%d_%H%M%S\" >> formatted.txt\n",
    "```\n",
    "#### Explanation: -d \"2026-11-14 13:00:03\" specifies the exact date and time. +\"%Y%m%d_%H%M%S\" formats the date as YYYYmmdd_HHMMSS. >> formatted.txt appends the output to formatted.txt."
   ]
  },
  {
   "cell_type": "markdown",
   "metadata": {},
   "source": [
    "# task 4\n",
    "#### Steps: put comand in command line:\n",
    "``` bash\n",
    "touch `date +\"%Y%m%d_%H%M%S\"`.txt\n",
    "```\n",
    "#### Explanation: \"data/weather/`date +\"%Y%m%d_%H%M%S\"`\" is executes date command with specified format and specific folder and returns date string in YYYYmmdd_HHMMSS format. \"touch\" is command creates an empty file with name output by the date command.\n"
   ]
  },
  {
   "cell_type": "markdown",
   "metadata": {},
   "source": [
    "# task 5\n",
    "#### Steps: 1)choose directory\n",
    "``` bash\n",
    "cd data/weather\n",
    "```\n",
    "#### 2)type in command line\n",
    "``` bash\n",
    "wget -O weather.json https://prodapi.metweb.ie/observations/athenry/today\n",
    "```\n",
    "#### Explanation: wget is a command-line utility used for downloading files from web. -O weather.json is option tells wget to save the downloaded content to file named weather.json. https://prodapi.metweb.ie/observations/athenry/today is the URL from which data is being downloaded."
   ]
  },
  {
   "cell_type": "markdown",
   "metadata": {},
   "source": [
    "# Task 6\n",
    "#### Steps: \n",
    "``` bash \n",
    "type wget -O data/weather/`date +\"%Y%m%d_%H%M%S.json\"` https://prodapi.metweb.ie/observations/athenry/today\n",
    "```\n",
    "#### Explanation: wget is a command-line utility used for downloading files from web. -O weather.json is option tells wget to save downloaded content to file in specific directory. https://prodapi.metweb.ie/observations/athenry/today is URL from which data is being downloaded."
   ]
  },
  {
   "cell_type": "markdown",
   "metadata": {},
   "source": [
    "# Task 7\n",
    "#### Steps: 1) create bash script called weather.sh in repository weather.sh \n",
    "``` bash\n",
    "cd weather\n",
    "touch weather.sh\n",
    "```\n",
    "#### 2) automate the process from Task 6, saving the weather data to the data/weather directory:\n",
    "``` bash\n",
    "#! /bin/bash \n",
    "wget -O data/weather/`date +\"%Y%m%d_%H%M%S.json\"` https://prodapi.metweb.ie/observations/athenry/today \n",
    "\n",
    "```\n",
    "#### 3) make testing: \n",
    "``` bash \n",
    "./weather.sh\n",
    "```\n",
    "\n"
   ]
  }
 ],
 "metadata": {
  "language_info": {
   "name": "python"
  }
 },
 "nbformat": 4,
 "nbformat_minor": 2
}
